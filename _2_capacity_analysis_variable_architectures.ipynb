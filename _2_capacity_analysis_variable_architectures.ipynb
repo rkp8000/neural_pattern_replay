{
 "cells": [
  {
   "cell_type": "code",
   "execution_count": 1,
   "metadata": {
    "collapsed": true
   },
   "outputs": [],
   "source": [
    "%matplotlib inline"
   ]
  },
  {
   "cell_type": "markdown",
   "metadata": {},
   "source": [
    "### Replay capacity analysis\n",
    "\n",
    "How many different sequences can a network reliably replay? Mathematically, this is equivalent to asking how many sequences can be specified purely through an unordered *set* of involved ensembles (marked by lingering hyperexcitability), and through the first ensemble in the sequence. This so-called replay capacity will of course depend on the network architecture. In this analysis, we restrict our analysis to networks with binary, directed connections.\n",
    "\n",
    "Importantly, there should be a nontrivial connectivity matrix that maximizes the replay capacity of a network. If the network has no connections, no sequences can be specified by a set of hyperexcitable ensembles: after the first ensemble activates, all other hyperexcitable ensembles will activate with equal probability, since none of them receives input from the first ensemble. On the other hand, no sequences can be specified in a fully connected network either, since after the first ensemble activates, again all other hyperexcitable ensembles will activate with equal probability, since they always receive increased but equal input from the first ensemble.\n",
    "\n",
    "Here we quantify the replay capacity of networks with a variety of different connectivities. To perform this calculation we precisely define the replay capacity of a network to be the number of replayable sequences it contains, where we call a sequence of ensembles replayable if the following is true:\n",
    "\n",
    "1. The sequence traces out a path through the network.\n",
    "2. If one starts at the first ensemble in the sequence and considers only the subnetwork defined by the set of ensembles in the sequence and the existing connections between them, then no ensemble (except potentially the last) has more than one target directly downstream of it.\n",
    "\n",
    "This simply quantifies the notion that if one knows the *set* of ensembles in the sequence as well as the starting ensemble, then there should be no ambiguity in determining the order.\n",
    "\n",
    "<img src=\"files/images/reliable_replayability_example.png\" />"
   ]
  },
  {
   "cell_type": "markdown",
   "metadata": {},
   "source": [
    "#### Erdos-Renyi (random) network\n",
    "We first consider a network of ensembles, in which a directed connection between any pair of ensembles is present with probability $p$."
   ]
  },
  {
   "cell_type": "markdown",
   "metadata": {},
   "source": [
    "#### Fixed out-degree network\n",
    "We next consider a network in which each ensemble connects randomly to a fixed number $k$ of other ensembles."
   ]
  },
  {
   "cell_type": "markdown",
   "metadata": {},
   "source": [
    "#### Fixed in-degree network\n",
    "\n",
    "We then consider a network in which each ensemble randomly receives connections from a fixed number $k$ of other ensembles."
   ]
  },
  {
   "cell_type": "markdown",
   "metadata": {},
   "source": [
    "#### Random sequence network\n",
    "\n",
    "Here we consider a network containing $n$ random directed paths of length $L$."
   ]
  },
  {
   "cell_type": "markdown",
   "metadata": {},
   "source": [
    "#### Circular feed-forward network\n",
    "Here we consider a feed forward network of $l$ layers in which each ensemble in each layer connects to all of the ensembles in the subsequent layer, and in which all of the ensembles in the final layer connect to all of the ensembles in the first layer."
   ]
  }
 ],
 "metadata": {
  "kernelspec": {
   "display_name": "Python 2",
   "language": "python",
   "name": "python2"
  },
  "language_info": {
   "codemirror_mode": {
    "name": "ipython",
    "version": 2
   },
   "file_extension": ".py",
   "mimetype": "text/x-python",
   "name": "python",
   "nbconvert_exporter": "python",
   "pygments_lexer": "ipython2",
   "version": "2.7.11"
  }
 },
 "nbformat": 4,
 "nbformat_minor": 0
}
