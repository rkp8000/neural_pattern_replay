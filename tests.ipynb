{
 "cells": [
  {
   "cell_type": "code",
   "execution_count": 1,
   "metadata": {
    "collapsed": false,
    "scrolled": false
   },
   "outputs": [
    {
     "name": "stdout",
     "output_type": "stream",
     "text": [
      "============================= test session starts ==============================\n",
      "platform darwin -- Python 2.7.11, pytest-3.0.2, py-1.4.31, pluggy-0.3.1\n",
      "rootdir: /Users/rkp/Dropbox/Repositories/neural_pattern_replay, inifile: \n",
      "collected 6 items\n",
      "\n",
      "tests/test_connectivity.py .\n",
      "tests/test_dynamics.py .....\n",
      "\n",
      "=========================== 6 passed in 2.66 seconds ===========================\n"
     ]
    }
   ],
   "source": [
    "import pytest\n",
    "\n",
    "pytest.main(['tests']);"
   ]
  }
 ],
 "metadata": {
  "kernelspec": {
   "display_name": "Python 2",
   "language": "python",
   "name": "python2"
  },
  "language_info": {
   "codemirror_mode": {
    "name": "ipython",
    "version": 2
   },
   "file_extension": ".py",
   "mimetype": "text/x-python",
   "name": "python",
   "nbconvert_exporter": "python",
   "pygments_lexer": "ipython2",
   "version": "2.7.11"
  }
 },
 "nbformat": 4,
 "nbformat_minor": 0
}
