{
 "cells": [
  {
   "cell_type": "code",
   "execution_count": null,
   "metadata": {
    "collapsed": true
   },
   "outputs": [],
   "source": [
    "from data_collect import modify_database"
   ]
  },
  {
   "cell_type": "code",
   "execution_count": null,
   "metadata": {
    "collapsed": true
   },
   "outputs": [],
   "source": [
    "DB_CHANGE_LOG = 'db_change.log'"
   ]
  },
  {
   "cell_type": "code",
   "execution_count": null,
   "metadata": {
    "collapsed": true
   },
   "outputs": [],
   "source": [
    "from data_collect.sequence_replay_capacity import er_capacity"
   ]
  },
  {
   "cell_type": "code",
   "execution_count": null,
   "metadata": {
    "collapsed": false
   },
   "outputs": [],
   "source": [
    "ER_CAPACITY_CONFIG = {\n",
    "    'N_NODESS': [100],\n",
    "    'P_CONNECTS': [.1, .2, .3],\n",
    "    'N_NETWORKSS': [30, 30, 30],\n",
    "    'SEQ_LENGTHS': [4],\n",
    "}\n",
    "LOG_FILE_PATH = 'logs/er_sequence_replay_capacity.log'\n",
    "\n",
    "modify_database(\n",
    "    db_change_log_filename=DB_CHANGE_LOG,\n",
    "    func=er_capacity,\n",
    "    params=ER_CAPACITY_CONFIG,\n",
    "    func_log_file_path=LOG_FILE_PATH,\n",
    "    is_correction=False)"
   ]
  }
 ],
 "metadata": {
  "kernelspec": {
   "display_name": "Python 2",
   "language": "python",
   "name": "python2"
  },
  "language_info": {
   "codemirror_mode": {
    "name": "ipython",
    "version": 2
   },
   "file_extension": ".py",
   "mimetype": "text/x-python",
   "name": "python",
   "nbconvert_exporter": "python",
   "pygments_lexer": "ipython2",
   "version": "2.7.11"
  }
 },
 "nbformat": 4,
 "nbformat_minor": 0
}
